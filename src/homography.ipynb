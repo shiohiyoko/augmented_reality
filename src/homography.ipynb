{
 "cells": [
  {
   "cell_type": "code",
   "execution_count": 1,
   "metadata": {},
   "outputs": [],
   "source": [
    "import cv2\n",
    "import math\n",
    "import math as np"
   ]
  },
  {
   "cell_type": "code",
   "execution_count": 2,
   "metadata": {},
   "outputs": [],
   "source": [
    "def angle(pt1, pt2, pt0) -> float:\n",
    "    dx1 = float(pt1[0,0] - pt0[0,0])\n",
    "    dy1 = float(pt1[0,1] - pt0[0,1])\n",
    "    dx2 = float(pt2[0,0] - pt0[0,0])\n",
    "    dy2 = float(pt2[0,1] - pt0[0,1])\n",
    "    v = math.sqrt((dx1*dx1 + dy1*dy1)*(dx2*dx2 + dy2*dy2) )\n",
    "    return (dx1*dx2 + dy1*dy2)/ v\n",
    "\n",
    "# 画像上の四角形を検出\n",
    "def findSquares(bin_image, image, cond_area = 1000):\n",
    "\n",
    "    bf = cv2.BFMatcher()\n",
    "    \n",
    "    # 輪郭取得\n",
    "    contours, _ = cv2.findContours(bin_image, cv2.RETR_LIST, cv2.CHAIN_APPROX_SIMPLE)\n",
    "    for i, cnt in enumerate(contours):\n",
    "        # 輪郭の周囲に比例する精度で輪郭を近似する\n",
    "        arclen = cv2.arcLength(cnt, True)\n",
    "        approx = cv2.approxPolyDP(cnt, arclen*0.02, True)\n",
    "\n",
    "        #四角形の輪郭は、近似後に4つの頂点があります。\n",
    "        #比較的広い領域が凸状になります。\n",
    "\n",
    "        # 凸性の確認 \n",
    "        area = abs(cv2.contourArea(approx))\n",
    "        if approx.shape[0] == 4 and area > cond_area and cv2.isContourConvex(approx) :\n",
    "            maxCosine = 0\n",
    "\n",
    "            for j in range(2, 5):\n",
    "                # 辺間の角度の最大コサインを算出\n",
    "                cosine = abs(angle(approx[j%4], approx[j-2], approx[j-1]))\n",
    "                maxCosine = max(maxCosine, cosine)\n",
    "\n",
    "            # すべての角度の余弦定理が小さい場合\n",
    "            #（すべての角度は約90度です）次に、quandrangeを書き込みます\n",
    "            # 結果のシーケンスへの頂点\n",
    "            if maxCosine < 0.3 :\n",
    "                # 四角判定!!\n",
    "                rcnt = approx.reshape(-1,2)\n",
    "                cv2.polylines(image, [rcnt], True, (0,0,255), thickness=2, lineType=cv2.LINE_8)\n",
    "                bf = cv2.BFMatcher()\n",
    "                matches_right = bf.match(des_both, des_right)\n",
    "                matches_right = sorted(matches_right, key = lambda x:x.distance)\n",
    "                matches_left = bf.match(des_left, des_both)\n",
    "                matches_left = sorted(matches_left, key = lambda x:x.distance)\n",
    "    return image\n",
    "\n",
    "def main():\n",
    "    image = cv2.imread('../img/sourceImage_03.jpg', cv2.IMREAD_COLOR)\n",
    "    if image is None :\n",
    "        exit(1)\n",
    "    gray = cv2.cvtColor(image, cv2.COLOR_BGR2GRAY)\n",
    "    _, bw = cv2.threshold(gray, 0, 255, cv2.THRESH_BINARY | cv2.THRESH_OTSU)\n",
    "    cv2.imshow(\"gray\",bw)\n",
    "    rimage = findSquares(bw, image)\n",
    "    cv2.imshow('Square Detector', rimage)\n",
    "    c = cv2.waitKey()\n",
    "    return 0;\n",
    "\n",
    "if __name__ == '__main__':\n",
    "    main()"
   ]
  }
 ],
 "metadata": {
  "kernelspec": {
   "display_name": "tensorflow_cnn",
   "language": "python",
   "name": "python3"
  },
  "language_info": {
   "codemirror_mode": {
    "name": "ipython",
    "version": 3
   },
   "file_extension": ".py",
   "mimetype": "text/x-python",
   "name": "python",
   "nbconvert_exporter": "python",
   "pygments_lexer": "ipython3",
   "version": "3.9.17"
  }
 },
 "nbformat": 4,
 "nbformat_minor": 2
}
